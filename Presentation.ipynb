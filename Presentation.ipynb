{
 "cells": [
  {
   "cell_type": "markdown",
   "metadata": {},
   "source": [
    "# Matlab Project"
   ]
  },
  {
   "cell_type": "code",
   "execution_count": 1,
   "metadata": {
    "collapsed": true
   },
   "outputs": [],
   "source": [
    "import numpy as np\n",
    "from numpy.linalg import lstsq\n",
    "from numpy.random import normal\n",
    "from matplotlib import pyplot as plt\n",
    "%matplotlib inline"
   ]
  },
  {
   "cell_type": "markdown",
   "metadata": {},
   "source": [
    "**<font color = blue>1. Dielectric constant of water and ice </font>**"
   ]
  },
  {
   "cell_type": "code",
   "execution_count": 2,
   "metadata": {
    "collapsed": true
   },
   "outputs": [],
   "source": [
    "def Dielectric_const(T,f):\n",
    "    \n",
    "    if T > 273.15:\n",
    "        theta = 300 / T\n",
    "        eta0 = 77.66 + 103.3 * (theta - 1.0)\n",
    "        eta1 = 0.0671 * eta0\n",
    "        eta2 = 3.52\n",
    "        gamma1 = 20.2 - 146 * (theta - 1) + 316 * pow((theta - 1), 2)\n",
    "        gamma2 = 39.8 * gamma1\n",
    "        eta = eta0 - f * ((eta0 - eta1) / (f + 1j * gamma1) + (eta1 - eta2) / (f + gamma2 * 1j))\n",
    "        eta = eta.conjugate()\n",
    "    else:\n",
    "        if hasattr(f, \"__len__\"):\n",
    "            eta = np.ones(len(f)) * (3.15 - 0.01 * 1j)\n",
    "        else:\n",
    "            eta = 3.15 - 0.01 * 1j\n",
    "    \n",
    "    return eta"
   ]
  },
  {
   "cell_type": "markdown",
   "metadata": {},
   "source": [
    "**<font color = blue>2. Surface reflectivity </font>**"
   ]
  },
  {
   "cell_type": "code",
   "execution_count": 3,
   "metadata": {
    "collapsed": true
   },
   "outputs": [],
   "source": [
    "def Reflection_indices(dconst, angle):\n",
    "    '''\n",
    "    angle -- degrees\n",
    "    '''\n",
    "    n2 = np.sqrt(dconst)\n",
    "    theta = np.radians(angle)\n",
    "    p = np.sqrt(pow(n2, 2) - pow(np.sin(theta), 2))\n",
    "    V = (np.cos(theta) - p) / (np.cos(theta) + p)\n",
    "    H = (p - pow(n2, 2) * np.cos(theta)) / (p + pow(n2, 2) * np.cos(theta))\n",
    "    V = np.power(np.abs(V), 2)\n",
    "    H = np.power(np.abs(H), 2)\n",
    "    \n",
    "    return V, H"
   ]
  },
  {
   "cell_type": "markdown",
   "metadata": {},
   "source": [
    "**<font color = blue>3. An interfering cloud layer </font>**"
   ]
  },
  {
   "cell_type": "code",
   "execution_count": 4,
   "metadata": {
    "collapsed": true
   },
   "outputs": [],
   "source": [
    "def trans_bright(f, theta, temp, waterc):\n",
    "    '''\n",
    "    model of surface obsevations\n",
    "    '''\n",
    "    theta = np.radians(theta)\n",
    "    gamma = waterc * f * 0.6\n",
    "    tao = gamma / np.cos(theta)\n",
    "    # TRANSMITIVITY\n",
    "    t = np.exp(-tao)\n",
    "    T = temp * t \n",
    "    return t, T"
   ]
  },
  {
   "cell_type": "markdown",
   "metadata": {},
   "source": [
    "**<font color = blue>4. The forward model </font>**"
   ]
  },
  {
   "cell_type": "code",
   "execution_count": 5,
   "metadata": {
    "collapsed": true
   },
   "outputs": [],
   "source": [
    "def seaice_fm(f, polar, theta, ice_temp, ice_frac, waterc, temp):\n",
    "    # WATER TEMPERTURE ASSUMPTION \n",
    "    water_temp = 277.15\n",
    "    eta_water = Dielectric_const(water_temp, f)\n",
    "    eta_ice = Dielectric_const(ice_temp, f)\n",
    "    Vw, Hw = Reflection_indices(eta_water, theta)\n",
    "    ref_water = np.column_stack((Vw, Hw))\n",
    "    Vi, Hi = Reflection_indices(eta_ice, theta)\n",
    "    ref_ice = np.column_stack((Vi, Hi))\n",
    "    #  POLORIZATION \n",
    "    po_water = []\n",
    "    po_ice = []\n",
    "    for i, j in enumerate(polar):\n",
    "        po_water.append(ref_water[i][j])\n",
    "        po_ice.append(ref_ice[i][j])\n",
    "    po_water = np.array(po_water)\n",
    "    po_ice = np.array(po_ice)\n",
    "    # ATMOSPHERIC EMISSION\n",
    "    t, T = trans_bright(f, theta, temp, waterc)    \n",
    "    # SURFACE EMISSION    \n",
    "    Tb = ice_temp * (1 - po_ice) * ice_frac * t + water_temp * (1 - po_water) * (1 - ice_frac) * t + temp * (1 - t) * t * ((1 - ice_frac) * po_water + ice_frac * po_ice) \n",
    "    \n",
    "    return Tb"
   ]
  },
  {
   "cell_type": "markdown",
   "metadata": {},
   "source": [
    "**<font color = blue>5. Retrieval </font>**"
   ]
  },
  {
   "cell_type": "code",
   "execution_count": 6,
   "metadata": {
    "collapsed": true
   },
   "outputs": [],
   "source": [
    "def methodA(f, polar, theta, Tb):\n",
    "    '''\n",
    "    inverse process\n",
    "    '''\n",
    "    water_temp = 277.15\n",
    "    eta_water = Dielectric_const(water_temp, f)\n",
    "    eta_ice = Dielectric_const(260, f)\n",
    "    Vw, Hw = Reflection_indices(eta_water, theta)\n",
    "    ref_water = np.column_stack((Vw, Hw))\n",
    "    Vi, Hi = Reflection_indices(eta_ice, theta)\n",
    "    ref_ice = np.column_stack((Vi, Hi))\n",
    "    #  POLORIZATION \n",
    "    po_water = []\n",
    "    po_ice = []\n",
    "    for i, j in enumerate(polar):\n",
    "        po_water.append(ref_water[i][j])\n",
    "        po_ice.append(ref_ice[i][j])\n",
    "    po_water = np.array(po_water)\n",
    "    po_ice = np.array(po_ice)\n",
    "    K = np.column_stack((-(1 - po_water) * water_temp,  1 - po_ice))\n",
    "    y = Tb - (1 - po_water) * water_temp\n",
    "    \n",
    "    return K, y"
   ]
  },
  {
   "cell_type": "markdown",
   "metadata": {},
   "source": [
    "** CASE **"
   ]
  },
  {
   "cell_type": "code",
   "execution_count": 7,
   "metadata": {
    "collapsed": true
   },
   "outputs": [],
   "source": [
    "# FREQUECY SETTING\n",
    "f = np.array([19.7, 19.7, 37, 37, 85.5, 85.5])\n",
    "# POLARIZATION SETTING\n",
    "polar = np.array([1, 0, 1, 0, 1, 0])\n",
    "# INCIDENCE ANGLE\n",
    "theta = 30.0\n",
    "# ICE TEMPERTURE\n",
    "ice_temp = 260.0\n",
    "# ICE FRACTION\n",
    "ice_frac = 0.5\n",
    "# WATER CONTENT\n",
    "waterc = 0.0\n",
    "# CLOUD TEMPERTURE\n",
    "temp = 290\n",
    "# BRIGHTNESS TEMPERTURE \n",
    "Tb = seaice_fm(f, polar, theta, ice_temp, ice_frac, waterc, temp)\n",
    "# METHOD A ADDING NOIZE\n",
    "Tb1 = Tb + normal(0, 0.5, len(Tb))"
   ]
  },
  {
   "cell_type": "code",
   "execution_count": 8,
   "metadata": {
    "collapsed": false
   },
   "outputs": [
    {
     "data": {
      "image/png": "[encoded data removed]",
      "text/plain": [
       "<matplotlib.figure.Figure at 0x7fd68db09810>"
      ]
     },
     "metadata": {},
     "output_type": "display_data"
    }
   ],
   "source": [
    "fig = plt.figure(figsize=(8, 6))\n",
    "plt.title(\"Brightness Temperture\", fontsize = 20)\n",
    "plt.plot(f, Tb, \"bo\", label = \"Normal\")\n",
    "plt.plot(f, Tb1, \"ro\", label = \"Add Noise\")\n",
    "plt.xlabel(\"Frequency [GHz]\", fontsize = 14)\n",
    "plt.ylabel(\"Temperture [K]\", fontsize = 14)\n",
    "plt.grid()\n",
    "plt.legend(loc = 1)\n",
    "plt.show()"
   ]
  },
  {
   "cell_type": "code",
   "execution_count": 9,
   "metadata": {
    "collapsed": true
   },
   "outputs": [],
   "source": [
    "# GENERATE MATRIX EQUATION\n",
    "K, y = methodA(f, polar, theta, Tb1)\n",
    "# LEAST SQUARES FITS\n",
    "Ans1 = lstsq(K, y)[0]"
   ]
  },
  {
   "cell_type": "code",
   "execution_count": 10,
   "metadata": {
    "collapsed": false
   },
   "outputs": [
    {
     "name": "stdout",
     "output_type": "stream",
     "text": [
      "Estimate concentration = 0.501045\n",
      "Estimate ice Temperture = 259.711973\n",
      "Real concentration = 0.500000\n",
      "Real ice temperture = 260.000000\n"
     ]
    }
   ],
   "source": [
    "print \"Estimate concentration = %f\\nEstimate ice Temperture = %f\\nReal concentration = %f\\nReal ice temperture = %f\" %(Ans1[0], Ans1[1]/ Ans1[0], ice_frac, ice_temp)"
   ]
  },
  {
   "cell_type": "code",
   "execution_count": null,
   "metadata": {
    "collapsed": true
   },
   "outputs": [],
   "source": [
    "eta = "
   ]
  }
 ],
 "metadata": {
  "anaconda-cloud": {},
  "kernelspec": {
   "display_name": "Python [conda root]",
   "language": "python",
   "name": "conda-root-py"
  },
  "language_info": {
   "codemirror_mode": {
    "name": "ipython",
    "version": 2
   },
   "file_extension": ".py",
   "mimetype": "text/x-python",
   "name": "python",
   "nbconvert_exporter": "python",
   "pygments_lexer": "ipython2",
   "version": "2.7.12"
  }
 },
 "nbformat": 4,
 "nbformat_minor": 1
}
